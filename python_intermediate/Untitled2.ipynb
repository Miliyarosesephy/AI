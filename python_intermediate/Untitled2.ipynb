{
 "cells": [
  {
   "cell_type": "code",
   "execution_count": 1,
   "id": "1aff2370-6c7d-4672-9aeb-e84ae9e0092e",
   "metadata": {},
   "outputs": [
    {
     "name": "stdout",
     "output_type": "stream",
     "text": [
      "1\n",
      "2\n",
      "3\n",
      "4\n",
      "5\n",
      "6\n",
      "7\n",
      "8\n",
      "9\n",
      "10\n"
     ]
    }
   ],
   "source": [
    "i = 1  \n",
    "\n",
    "while i <= 10: \n",
    "    print(i)  \n",
    "    i += 1  "
   ]
  },
  {
   "cell_type": "code",
   "execution_count": 2,
   "id": "95688f9a-3678-4956-9456-57f3aace2c63",
   "metadata": {},
   "outputs": [
    {
     "name": "stdout",
     "output_type": "stream",
     "text": [
      "1\n",
      "2\n",
      "3\n",
      "4\n",
      "5\n",
      "6\n",
      "7\n",
      "8\n",
      "9\n",
      "10\n"
     ]
    }
   ],
   "source": [
    "i = 1  \n",
    "\n",
    "while i <= 10: \n",
    "    print(i)  \n",
    "    i += 1  "
   ]
  },
  {
   "cell_type": "code",
   "execution_count": 3,
   "id": "76afded7-18df-4414-ac4d-91c54bd20b8b",
   "metadata": {},
   "outputs": [
    {
     "name": "stdout",
     "output_type": "stream",
     "text": [
      "1\n",
      "2\n",
      "3\n",
      "4\n",
      "5\n",
      "6\n",
      "7\n",
      "8\n",
      "9\n",
      "10\n"
     ]
    }
   ],
   "source": [
    "i = 1  \n",
    "\n",
    "while i <= 10: \n",
    "    print(i)  \n",
    "    i += 1  "
   ]
  },
  {
   "cell_type": "code",
   "execution_count": 4,
   "id": "c6cdadb5-3b17-4fef-8c16-5dd9f59df9ae",
   "metadata": {},
   "outputs": [
    {
     "name": "stdin",
     "output_type": "stream",
     "text": [
      "Enter a number to generate its multiplication table:  5\n"
     ]
    },
    {
     "name": "stdout",
     "output_type": "stream",
     "text": [
      "\n",
      "Multiplication Table for 5:\n",
      "5 x 1 = 5\n",
      "5 x 2 = 10\n",
      "5 x 3 = 15\n",
      "5 x 4 = 20\n",
      "5 x 5 = 25\n",
      "5 x 6 = 30\n",
      "5 x 7 = 35\n",
      "5 x 8 = 40\n",
      "5 x 9 = 45\n",
      "5 x 10 = 50\n"
     ]
    }
   ],
   "source": [
    "try:\n",
    "    num = int(input(\"Enter a number to generate its multiplication table: \"))\n",
    "except ValueError:\n",
    "    print(\"Invalid input. Please enter an integer.\")\n",
    "    exit()\n",
    "print(f\"\\nMultiplication Table for {num}:\")\n",
    "for i in range(1, 11):  \n",
    "    product = num * i\n",
    "    print(f\"{num} x {i} = {product}\")"
   ]
  },
  {
   "cell_type": "code",
   "execution_count": 5,
   "id": "96566989-cfdb-4a6c-bd91-ed749fe3304e",
   "metadata": {},
   "outputs": [
    {
     "name": "stdout",
     "output_type": "stream",
     "text": [
      "*\n",
      "**\n",
      "***\n",
      "****\n",
      "*****\n"
     ]
    }
   ],
   "source": [
    "for i in range(1, 6):\n",
    "    for j in range(i):\n",
    "        print(\"*\", end=\"\")\n",
    "    print()"
   ]
  },
  {
   "cell_type": "code",
   "execution_count": 8,
   "id": "0cfc11c4-2b37-454f-abda-db8b923876b6",
   "metadata": {},
   "outputs": [
    {
     "name": "stdout",
     "output_type": "stream",
     "text": [
      "apples\n",
      "bananas\n",
      "blueberries\n",
      "cherries\n",
      "cantaloupes\n",
      "dates\n",
      "figs\n",
      "grapes\n",
      "kiwis\n",
      "mangos\n"
     ]
    }
   ],
   "source": [
    "fruits = [\"apples\", \"bananas\", \"blueberries\", \"cherries\", \"cantaloupes\",\"dates\", \"figs\", \"grapes\",\"kiwis\", \"mangos\"]\n",
    "for fruit in fruits:\n",
    "    print(fruit)"
   ]
  },
  {
   "cell_type": "code",
   "execution_count": 9,
   "id": "eff09155-0a0d-4ffd-b8cf-fac21e0fa576",
   "metadata": {},
   "outputs": [
    {
     "name": "stdout",
     "output_type": "stream",
     "text": [
      "6\n"
     ]
    }
   ],
   "source": [
    "even_numbers_tuple = (2, 4, 6, 8, 10)\n",
    "print(even_numbers_tuple[2])"
   ]
  },
  {
   "cell_type": "code",
   "execution_count": 10,
   "id": "bd337134-72d3-4e6a-b9c9-bf54a568fad1",
   "metadata": {},
   "outputs": [
    {
     "name": "stdout",
     "output_type": "stream",
     "text": [
      "{1, 2, 3, 4, 5, 6}\n"
     ]
    }
   ],
   "source": [
    "my_list = [1, 2, 2, 3, 4, 4, 5, 1, 6]\n",
    "unique_items_set = set(my_list)\n",
    "print(unique_items_set)"
   ]
  },
  {
   "cell_type": "code",
   "execution_count": 11,
   "id": "0e20d00d-9144-4843-b89d-3c2d3401c7e5",
   "metadata": {},
   "outputs": [
    {
     "name": "stdout",
     "output_type": "stream",
     "text": [
      "First 6 characters: python\n",
      "Last 6 characters: programming\n",
      "Every second character: ptopormig\n",
      "Reversed string: gnimmargorpnohtyp\n"
     ]
    }
   ],
   "source": [
    "string = \"pythonprogramming\"\n",
    "first_six = string[:6]\n",
    "print(f\"First 6 characters: {first_six}\")\n",
    "last_six = string[6:]\n",
    "print(f\"Last 6 characters: {last_six}\")\n",
    "every_second = string[::2]\n",
    "print(f\"Every second character: {every_second}\")\n",
    "reversed_string = string[::-1]\n",
    "print(f\"Reversed string: {reversed_string}\")"
   ]
  },
  {
   "cell_type": "code",
   "execution_count": 12,
   "id": "ff11c2f2-d4fc-4499-a486-3d78dbed6bf9",
   "metadata": {},
   "outputs": [],
   "source": [
    "squares = [x**2 for x in range(1, 11)]"
   ]
  },
  {
   "cell_type": "code",
   "execution_count": 13,
   "id": "d09afaa2-fb34-4826-9a68-63153ff5556f",
   "metadata": {},
   "outputs": [
    {
     "name": "stdout",
     "output_type": "stream",
     "text": [
      "[1, 4, 9, 16, 25, 36, 49, 64, 81, 100]\n"
     ]
    }
   ],
   "source": [
    "squares = [x**2 for x in range(1, 11)]\n",
    "print(squares)"
   ]
  },
  {
   "cell_type": "code",
   "execution_count": 14,
   "id": "2a0ca8dc-bff6-443e-8d53-8a68f267b58f",
   "metadata": {},
   "outputs": [
    {
     "name": "stdout",
     "output_type": "stream",
     "text": [
      "[2, 4, 6, 8, 10, 12, 14, 16, 18, 20, 22, 24, 26, 28, 30, 32, 34, 36, 38, 40, 42, 44, 46, 48, 50]\n"
     ]
    }
   ],
   "source": [
    "even_numbers = [x for x in range(1, 51) if x % 2 == 0]\n",
    "print(even_numbers)"
   ]
  },
  {
   "cell_type": "code",
   "execution_count": 16,
   "id": "9f1b4d4c-2109-454b-b84c-7f48d979adba",
   "metadata": {},
   "outputs": [],
   "source": [
    "def filter_long_words(words):\n",
    "    long_words = []\n",
    "    for word in words:\n",
    "        if len(word) > 5:\n",
    "            long_words.append(word)\n",
    "    return long_words\n",
    "    if len(word) >= 5:\n",
    "       long_words = [word for word in words if len(word) >= 5] "
   ]
  },
  {
   "cell_type": "code",
   "execution_count": 17,
   "id": "da9aecb8-6df6-4474-a69b-62fdd7234bfd",
   "metadata": {},
   "outputs": [
    {
     "name": "stdout",
     "output_type": "stream",
     "text": [
      "True\n",
      "False\n",
      "True\n",
      "False\n",
      "False\n",
      "True\n"
     ]
    }
   ],
   "source": [
    "import math\n",
    "\n",
    "def is_prime(n):\n",
    "    \"\"\"\n",
    "    Checks if a given number is prime.\n",
    "\n",
    "    Args:\n",
    "        n: An integer.\n",
    "\n",
    "    Returns:\n",
    "        True if n is a prime number, False otherwise.\n",
    "    \"\"\"\n",
    "    if n <= 1:\n",
    "        return False  \n",
    "    if n == 2:\n",
    "        return True  \n",
    "    if n % 2 == 0:\n",
    "        return False  \n",
    "    for i in range(3, int(math.sqrt(n)) + 1, 2):\n",
    "        if n % i == 0:\n",
    "            return False  \n",
    "    return True  \n",
    "print(is_prime(7))   # Output: True\n",
    "print(is_prime(10))  # Output: False\n",
    "print(is_prime(2))   # Output: True\n",
    "print(is_prime(1))   # Output: False\n",
    "print(is_prime(0))   # Output: False\n",
    "print(is_prime(29))  # Output: True"
   ]
  },
  {
   "cell_type": "code",
   "execution_count": 18,
   "id": "4ac11caf-703d-48d5-a5ee-494f5904fd07",
   "metadata": {},
   "outputs": [
    {
     "name": "stdin",
     "output_type": "stream",
     "text": [
      "Enter a non-negative integer:  6\n"
     ]
    },
    {
     "name": "stdout",
     "output_type": "stream",
     "text": [
      "The factorial of 6 is 720\n"
     ]
    }
   ],
   "source": [
    "def factorial(n):\n",
    "    \"\"\"\n",
    "    Calculates the factorial of a non-negative integer using recursion.\n",
    "\n",
    "    Args:\n",
    "        n: A non-negative integer.\n",
    "\n",
    "    Returns:\n",
    "        The factorial of n.\n",
    "    \"\"\"\n",
    "    if n == 0 or n == 1: \n",
    "        return 1\n",
    "    elif n < 0:\n",
    "        raise ValueError(\"Factorial is not defined for negative numbers.\")\n",
    "    else:  \n",
    "        return n * factorial(n - 1)\n",
    "try:\n",
    "    number = int(input(\"Enter a non-negative integer: \"))\n",
    "    result = factorial(number)\n",
    "    print(f\"The factorial of {number} is {result}\")\n",
    "except ValueError as e:\n",
    "    print(f\"Error: {e}\")"
   ]
  },
  {
   "cell_type": "code",
   "execution_count": 19,
   "id": "67d097a3-f697-4b89-a8dd-6880182b9294",
   "metadata": {},
   "outputs": [],
   "source": [
    "def sum_of_list(numbers):\n",
    "  \"\"\"\n",
    "  Calculates the sum of all elements in a list.\n",
    "\n",
    "  Args:\n",
    "    numbers: A list of numbers (integers or floats).\n",
    "\n",
    "  Returns:\n",
    "    The sum of all elements in the list.\n",
    "  \"\"\"\n",
    "  total = 0\n",
    "  for number in numbers:\n",
    "    total += number\n",
    "  return total"
   ]
  },
  {
   "cell_type": "code",
   "execution_count": 20,
   "id": "7c838d71-221d-48d4-8017-7e04e297c40e",
   "metadata": {},
   "outputs": [
    {
     "name": "stdout",
     "output_type": "stream",
     "text": [
      "The sum of the list [1, 2, 3, 4, 5] is: 15\n",
      "The sum of the empty list [] is: 0\n"
     ]
    }
   ],
   "source": [
    "def calculate_list_sum(numbers_list):\n",
    "  \"\"\"\n",
    "  Calculates the sum of all numeric elements in a list.\n",
    "\n",
    "  Args:\n",
    "    numbers_list: A list containing numbers (integers or floats).\n",
    "\n",
    "  Returns:\n",
    "    The sum of the elements in the list. Returns 0 if the list is empty.\n",
    "  \"\"\"\n",
    "  total = 0\n",
    "  for number in numbers_list:\n",
    "    total += number\n",
    "  return total\n",
    "\n",
    "# Example usage:\n",
    "my_list = [1, 2, 3, 4, 5]\n",
    "list_sum = calculate_list_sum(my_list)\n",
    "print(f\"The sum of the list {my_list} is: {list_sum}\") \n",
    "\n",
    "empty_list = []\n",
    "empty_list_sum = calculate_list_sum(empty_list)\n",
    "print(f\"The sum of the empty list {empty_list} is: {empty_list_sum}\")\n"
   ]
  },
  {
   "cell_type": "code",
   "execution_count": 21,
   "id": "8568f6a5-f819-4a11-90c7-ff7cb5c2894a",
   "metadata": {},
   "outputs": [
    {
     "name": "stdout",
     "output_type": "stream",
     "text": [
      "Student Name: Alice, Grade: A\n",
      "Student Name: Bob, Grade: 90\n"
     ]
    }
   ],
   "source": [
    "class Student:\n",
    "    def __init__(self, name, grade):\n",
    "        \"\"\"\n",
    "        Initializes a new Student object.\n",
    "\n",
    "        Args:\n",
    "            name (str): The name of the student.\n",
    "            grade (str or int): The grade of the student (e.g., 'A', 'B', or a numerical grade).\n",
    "        \"\"\"\n",
    "        self.name = name\n",
    "        self.grade = grade\n",
    "\n",
    "    def display_info(self):\n",
    "        \"\"\"\n",
    "        Prints the name and grade of the student.\n",
    "        \"\"\"\n",
    "        print(f\"Student Name: {self.name}, Grade: {self.grade}\")\n",
    "\n",
    "# Example usage:\n",
    "student1 = Student(\"Alice\", \"A\")\n",
    "student2 = Student(\"Bob\", 90)\n",
    "\n",
    "student1.display_info()\n",
    "student2.display_info()"
   ]
  },
  {
   "cell_type": "code",
   "execution_count": 22,
   "id": "9cbeb279-92cb-4d6d-8a4f-18e14240e86d",
   "metadata": {},
   "outputs": [
    {
     "name": "stdout",
     "output_type": "stream",
     "text": [
      "Initial name: Alice, Initial grade: 85\n",
      "Updated name: Bob, Updated grade: 92\n",
      "Invalid name. Name must be a non-empty string.\n",
      "Invalid grade. Grade must be a number between 0 and 100.\n"
     ]
    }
   ],
   "source": [
    "class Student:\n",
    "    def __init__(self, name, grade):\n",
    "        self._name = name  \n",
    "        self._grade = grade\n",
    "    def get_name(self):\n",
    "        \"\"\"Getter for name.\"\"\"\n",
    "        return self._name\n",
    "\n",
    "    def set_name(self, new_name):\n",
    "        \"\"\"Setter for name with optional validation.\"\"\"\n",
    "        if isinstance(new_name, str) and len(new_name) > 0:\n",
    "            self._name = new_name\n",
    "        else:\n",
    "            print(\"Invalid name. Name must be a non-empty string.\")\n",
    "    def get_grade(self):\n",
    "        \"\"\"Getter for grade.\"\"\"\n",
    "        return self._grade\n",
    "\n",
    "    def set_grade(self, new_grade):\n",
    "        \"\"\"Setter for grade with optional validation.\"\"\"\n",
    "        if isinstance(new_grade, (int, float)) and 0 <= new_grade <= 100:\n",
    "            self._grade = new_grade\n",
    "        else:\n",
    "            print(\"Invalid grade. Grade must be a number between 0 and 100.\")\n",
    "student1 = Student(\"Alice\", 85)\n",
    "print(f\"Initial name: {student1.get_name()}, Initial grade: {student1.get_grade()}\")\n",
    "student1.set_name(\"Bob\")\n",
    "student1.set_grade(92)\n",
    "print(f\"Updated name: {student1.get_name()}, Updated grade: {student1.get_grade()}\")\n",
    "\n",
    "student1.set_name(\"\") \n",
    "student1.set_grade(105) "
   ]
  },
  {
   "cell_type": "code",
   "execution_count": 23,
   "id": "c08332e4-aeab-4e23-a376-43de02900fc7",
   "metadata": {},
   "outputs": [
    {
     "name": "stdout",
     "output_type": "stream",
     "text": [
      "Student 1 Details:\n",
      "Name: Alice\n",
      "Age: 18\n",
      "Student ID: S101\n",
      "\n",
      "Student 2 Details:\n",
      "Name: Bob\n",
      "Age: 19\n",
      "Student ID: S102\n"
     ]
    }
   ],
   "source": [
    "class Student:\n",
    "    def __init__(self, name, age, student_id):\n",
    "        self._name = name  \n",
    "        self._age = age\n",
    "        self._student_id = student_id\n",
    "    def get_name(self):\n",
    "        return self._name\n",
    "    def get_age(self):\n",
    "        return self._age\n",
    "    def get_student_id(self):\n",
    "        return self._student_id\n",
    "student1 = Student(\"Alice\", 18, \"S101\")\n",
    "student2 = Student(\"Bob\", 19, \"S102\")\n",
    "print(f\"Student 1 Details:\")\n",
    "print(f\"Name: {student1.get_name()}\")\n",
    "print(f\"Age: {student1.get_age()}\")\n",
    "print(f\"Student ID: {student1.get_student_id()}\")\n",
    "print(f\"\\nStudent 2 Details:\")\n",
    "print(f\"Name: {student2.get_name()}\")\n",
    "print(f\"Age: {student2.get_age()}\")\n",
    "print(f\"Student ID: {student2.get_student_id()}\")\n"
   ]
  },
  {
   "cell_type": "code",
   "execution_count": null,
   "id": "0aa2d046-5360-429e-b17c-30b4a0079695",
   "metadata": {},
   "outputs": [],
   "source": []
  }
 ],
 "metadata": {
  "kernelspec": {
   "display_name": "Python 3 (ipykernel)",
   "language": "python",
   "name": "python3"
  },
  "language_info": {
   "codemirror_mode": {
    "name": "ipython",
    "version": 3
   },
   "file_extension": ".py",
   "mimetype": "text/x-python",
   "name": "python",
   "nbconvert_exporter": "python",
   "pygments_lexer": "ipython3",
   "version": "3.10.12"
  }
 },
 "nbformat": 4,
 "nbformat_minor": 5
}
